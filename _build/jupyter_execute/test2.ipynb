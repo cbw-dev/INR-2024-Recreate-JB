{
 "cells": [
  {
   "cell_type": "markdown",
   "id": "0ff2ae7e",
   "metadata": {},
   "source": [
    "# Executing R Code in Rmd"
   ]
  },
  {
   "cell_type": "code",
   "execution_count": 1,
   "id": "364e9691",
   "metadata": {
    "echo": true,
    "lines_to_next_cell": 0
   },
   "outputs": [
    {
     "name": "stdout",
     "output_type": "stream",
     "text": [
      "[1] \"Hallo I'm an RMarkdown block!\"\n"
     ]
    }
   ],
   "source": [
    "print(\"Hallo I'm an RMarkdown block!\")"
   ]
  },
  {
   "cell_type": "markdown",
   "id": "5ca0c526",
   "metadata": {},
   "source": [
    " "
   ]
  }
 ],
 "metadata": {
  "jupytext": {
   "text_representation": {
    "extension": ".Rmd",
    "format_name": "rmarkdown"
   }
  },
  "kernelspec": {
   "display_name": "R",
   "language": "R",
   "name": "ir"
  },
  "language_info": {
   "codemirror_mode": "r",
   "file_extension": ".r",
   "mimetype": "text/x-r-source",
   "name": "R",
   "pygments_lexer": "r",
   "version": "4.4.1"
  }
 },
 "nbformat": 4,
 "nbformat_minor": 5
}